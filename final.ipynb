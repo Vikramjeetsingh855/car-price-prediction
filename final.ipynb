{
 "cells": [
  {
   "cell_type": "code",
   "execution_count": 3,
   "id": "692c901c-74cc-49f4-8704-e458724cdfdd",
   "metadata": {},
   "outputs": [],
   "source": [
    "import pickle\n",
    "import pandas as pd"
   ]
  },
  {
   "cell_type": "code",
   "execution_count": 4,
   "id": "2f7e554a-9713-45b1-924e-edb7ba8be51f",
   "metadata": {},
   "outputs": [],
   "source": [
    "dataset = pd.read_csv(\"car data.csv\")"
   ]
  },
  {
   "cell_type": "code",
   "execution_count": 2,
   "id": "0e691729-e901-49aa-a894-b240522fa0f7",
   "metadata": {},
   "outputs": [],
   "source": [
    "pi = open(\"mod.txt\",\"rb\")\n",
    "pipe = pickle.load(pi)"
   ]
  },
  {
   "cell_type": "code",
   "execution_count": 13,
   "id": "dc1423be-d8eb-4db3-9e43-4e6edf2774de",
   "metadata": {},
   "outputs": [
    {
     "name": "stdin",
     "output_type": "stream",
     "text": [
      "enter your car name  :  sx4\n",
      "enter year of car :   2014\n",
      "enter Present Price :   4.5\n",
      "enter Kms Drives :  34000\n",
      "enter your fuel type ( Petrol / Diesel / CNG  ) :   Petrol\n",
      "enter transmission type (Manual / Automatic ) :  Manual\n",
      "enter your Owner type :  0\n"
     ]
    },
    {
     "name": "stdout",
     "output_type": "stream",
     "text": [
      "your car selling price :  3.3829775996972145\n"
     ]
    },
    {
     "name": "stderr",
     "output_type": "stream",
     "text": [
      "C:\\Users\\karan\\AppData\\Local\\Programs\\Python\\Python310\\lib\\site-packages\\sklearn\\base.py:465: UserWarning: X does not have valid feature names, but OrdinalEncoder was fitted with feature names\n",
      "  warnings.warn(\n"
     ]
    }
   ],
   "source": [
    "Car_Name = input(\"enter your car name  : \")\n",
    "year = int(input(\"enter year of car :  \"))\n",
    "Present_Price = float(input(\"enter Present Price :  \"))\n",
    "kms = int(input(\"enter Kms Drives : \"))\n",
    "fule_type = input(\"enter your fuel type ( Petrol / Diesel / CNG  ) :  \")\n",
    "Transmission = input(\"enter transmission type (Manual / Automatic ) : \")\n",
    "Owner = int(input(\"enter your Owner type : \"))\n",
    "\n",
    "Selling_Price = pipe.predict([[Car_Name,year,Present_Price,kms,fule_type,Transmission,Owner]])\n",
    "print(\"your car selling price : \",Selling_Price[0])"
   ]
  },
  {
   "cell_type": "code",
   "execution_count": null,
   "id": "0ba6339c-beeb-423c-9732-c09d1e9247d6",
   "metadata": {},
   "outputs": [],
   "source": []
  }
 ],
 "metadata": {
  "kernelspec": {
   "display_name": "Python 3 (ipykernel)",
   "language": "python",
   "name": "python3"
  },
  "language_info": {
   "codemirror_mode": {
    "name": "ipython",
    "version": 3
   },
   "file_extension": ".py",
   "mimetype": "text/x-python",
   "name": "python",
   "nbconvert_exporter": "python",
   "pygments_lexer": "ipython3",
   "version": "3.10.11"
  }
 },
 "nbformat": 4,
 "nbformat_minor": 5
}
