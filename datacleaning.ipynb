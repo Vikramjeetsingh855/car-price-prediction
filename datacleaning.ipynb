{
 "cells": [
  {
   "cell_type": "code",
   "execution_count": 2,
   "id": "35936e01-9c73-41a6-82ee-deb9eb7e8f2d",
   "metadata": {},
   "outputs": [],
   "source": [
    "import pandas as pd\n",
    "import matplotlib.pyplot as plt\n",
    "import seaborn as sns\n",
    "from sklearn.preprocessing import LabelEncoder\n",
    "from sklearn.preprocessing import StandardScaler\n",
    "import numpy as np\n",
    "from sklearn.preprocessing import FunctionTransformer\n",
    "from sklearn.model_selection import train_test_split\n",
    "from sklearn.linear_model import LinearRegression"
   ]
  },
  {
   "cell_type": "code",
   "execution_count": 3,
   "id": "00756300-e999-4971-9dfb-ec2a2515c90a",
   "metadata": {},
   "outputs": [],
   "source": [
    "dataset = pd.read_csv(\"car data.csv\")"
   ]
  },
  {
   "cell_type": "code",
   "execution_count": 4,
   "id": "5b082292-3f31-4631-8134-1a3f69721a16",
   "metadata": {},
   "outputs": [
    {
     "data": {
      "text/html": [
       "<div>\n",
       "<style scoped>\n",
       "    .dataframe tbody tr th:only-of-type {\n",
       "        vertical-align: middle;\n",
       "    }\n",
       "\n",
       "    .dataframe tbody tr th {\n",
       "        vertical-align: top;\n",
       "    }\n",
       "\n",
       "    .dataframe thead th {\n",
       "        text-align: right;\n",
       "    }\n",
       "</style>\n",
       "<table border=\"1\" class=\"dataframe\">\n",
       "  <thead>\n",
       "    <tr style=\"text-align: right;\">\n",
       "      <th></th>\n",
       "      <th>Car_Name</th>\n",
       "      <th>Year</th>\n",
       "      <th>Present_Price</th>\n",
       "      <th>Driven_kms</th>\n",
       "      <th>Fuel_Type</th>\n",
       "      <th>Selling_type</th>\n",
       "      <th>Transmission</th>\n",
       "      <th>Owner</th>\n",
       "      <th>Selling_Price</th>\n",
       "    </tr>\n",
       "  </thead>\n",
       "  <tbody>\n",
       "    <tr>\n",
       "      <th>0</th>\n",
       "      <td>ritz</td>\n",
       "      <td>2014</td>\n",
       "      <td>5.59</td>\n",
       "      <td>27000</td>\n",
       "      <td>Petrol</td>\n",
       "      <td>Dealer</td>\n",
       "      <td>Manual</td>\n",
       "      <td>0</td>\n",
       "      <td>3.35</td>\n",
       "    </tr>\n",
       "    <tr>\n",
       "      <th>1</th>\n",
       "      <td>sx4</td>\n",
       "      <td>2013</td>\n",
       "      <td>9.54</td>\n",
       "      <td>43000</td>\n",
       "      <td>Diesel</td>\n",
       "      <td>Dealer</td>\n",
       "      <td>Manual</td>\n",
       "      <td>0</td>\n",
       "      <td>4.75</td>\n",
       "    </tr>\n",
       "    <tr>\n",
       "      <th>2</th>\n",
       "      <td>ciaz</td>\n",
       "      <td>2017</td>\n",
       "      <td>9.85</td>\n",
       "      <td>6900</td>\n",
       "      <td>Petrol</td>\n",
       "      <td>Dealer</td>\n",
       "      <td>Manual</td>\n",
       "      <td>0</td>\n",
       "      <td>7.25</td>\n",
       "    </tr>\n",
       "  </tbody>\n",
       "</table>\n",
       "</div>"
      ],
      "text/plain": [
       "  Car_Name  Year  Present_Price  Driven_kms Fuel_Type Selling_type  \\\n",
       "0     ritz  2014           5.59       27000    Petrol       Dealer   \n",
       "1      sx4  2013           9.54       43000    Diesel       Dealer   \n",
       "2     ciaz  2017           9.85        6900    Petrol       Dealer   \n",
       "\n",
       "  Transmission  Owner  Selling_Price  \n",
       "0       Manual      0           3.35  \n",
       "1       Manual      0           4.75  \n",
       "2       Manual      0           7.25  "
      ]
     },
     "execution_count": 4,
     "metadata": {},
     "output_type": "execute_result"
    }
   ],
   "source": [
    "dataset.head(3)"
   ]
  },
  {
   "cell_type": "code",
   "execution_count": 5,
   "id": "9be6b996-8d65-4b5a-8e9c-1d021f31caab",
   "metadata": {},
   "outputs": [],
   "source": [
    "dataset.drop(columns='Selling_type',inplace=True)"
   ]
  },
  {
   "cell_type": "code",
   "execution_count": 6,
   "id": "6fe1c763-403f-4654-9f9e-f85999829ed4",
   "metadata": {},
   "outputs": [
    {
     "name": "stdout",
     "output_type": "stream",
     "text": [
      "<class 'pandas.core.frame.DataFrame'>\n",
      "RangeIndex: 301 entries, 0 to 300\n",
      "Data columns (total 8 columns):\n",
      " #   Column         Non-Null Count  Dtype  \n",
      "---  ------         --------------  -----  \n",
      " 0   Car_Name       301 non-null    object \n",
      " 1   Year           301 non-null    int64  \n",
      " 2   Present_Price  301 non-null    float64\n",
      " 3   Driven_kms     301 non-null    int64  \n",
      " 4   Fuel_Type      301 non-null    object \n",
      " 5   Transmission   301 non-null    object \n",
      " 6   Owner          301 non-null    int64  \n",
      " 7   Selling_Price  301 non-null    float64\n",
      "dtypes: float64(2), int64(3), object(3)\n",
      "memory usage: 18.9+ KB\n"
     ]
    }
   ],
   "source": [
    "dataset.info()"
   ]
  },
  {
   "cell_type": "code",
   "execution_count": 7,
   "id": "84222380-e3a9-4c52-921f-4fabcb8f6828",
   "metadata": {},
   "outputs": [
    {
     "data": {
      "text/plain": [
       "Car_Name         0\n",
       "Year             0\n",
       "Present_Price    0\n",
       "Driven_kms       0\n",
       "Fuel_Type        0\n",
       "Transmission     0\n",
       "Owner            0\n",
       "Selling_Price    0\n",
       "dtype: int64"
      ]
     },
     "execution_count": 7,
     "metadata": {},
     "output_type": "execute_result"
    }
   ],
   "source": [
    "dataset.isnull().sum()"
   ]
  },
  {
   "cell_type": "code",
   "execution_count": 8,
   "id": "932cd9d5-fed1-4b34-8ef4-d6fa17bdb952",
   "metadata": {},
   "outputs": [
    {
     "data": {
      "text/plain": [
       "Index(['Car_Name', 'Fuel_Type', 'Transmission'], dtype='object')"
      ]
     },
     "execution_count": 8,
     "metadata": {},
     "output_type": "execute_result"
    }
   ],
   "source": [
    "dataset.select_dtypes(include=\"object\").columns"
   ]
  },
  {
   "cell_type": "code",
   "execution_count": 9,
   "id": "20350650-ebaa-4a8b-8cad-ad75ff33daee",
   "metadata": {},
   "outputs": [],
   "source": [
    "cn = LabelEncoder()\n",
    "cn.fit(dataset[\"Car_Name\"])\n",
    "dataset[\"Car_Name\"]  =  cn.transform(dataset[\"Car_Name\"])"
   ]
  },
  {
   "cell_type": "code",
   "execution_count": 10,
   "id": "84b3d07b-ac8e-4a8c-ba46-8407f9b88fd3",
   "metadata": {},
   "outputs": [],
   "source": [
    "ft = LabelEncoder()\n",
    "ft.fit(dataset[\"Fuel_Type\"])\n",
    "dataset[\"Fuel_Type\"]  =  ft.transform(dataset[\"Fuel_Type\"])"
   ]
  },
  {
   "cell_type": "code",
   "execution_count": 11,
   "id": "5a2fa7ab-96e5-41fd-a554-f8409d9b1749",
   "metadata": {},
   "outputs": [],
   "source": [
    "Tr = LabelEncoder()\n",
    "Tr.fit(dataset[\"Transmission\"])\n",
    "dataset[\"Transmission\"]  =  Tr.transform(dataset[\"Transmission\"])"
   ]
  },
  {
   "cell_type": "code",
   "execution_count": null,
   "id": "84e3fd5b-24df-4a28-a73b-db0951149f31",
   "metadata": {},
   "outputs": [],
   "source": []
  },
  {
   "cell_type": "code",
   "execution_count": null,
   "id": "23c8533c-ba44-4c1e-85c5-ec847272b75b",
   "metadata": {},
   "outputs": [],
   "source": []
  },
  {
   "cell_type": "code",
   "execution_count": 12,
   "id": "b7f47be5-b61a-4c13-bc50-8ebb14daaf00",
   "metadata": {},
   "outputs": [
    {
     "data": {
      "image/png": "[encoded data removed]",
      "text/plain": [
       "<Figure size 400x300 with 1 Axes>"
      ]
     },
     "metadata": {},
     "output_type": "display_data"
    }
   ],
   "source": [
    "plt.figure(figsize=(4,3))\n",
    "sns.kdeplot(x=\"Driven_kms\",data=dataset)\n",
    "plt.show()"
   ]
  },
  {
   "cell_type": "code",
   "execution_count": 13,
   "id": "b770c25a-341c-4656-8384-2a29ca2c6b3e",
   "metadata": {},
   "outputs": [
    {
     "data": {
      "image/png": "[encoded data removed]",
      "text/plain": [
       "<Figure size 400x300 with 1 Axes>"
      ]
     },
     "metadata": {},
     "output_type": "display_data"
    }
   ],
   "source": [
    "plt.figure(figsize=(4,3))\n",
    "sns.boxplot(x=\"Driven_kms\",data=dataset)\n",
    "plt.show()"
   ]
  },
  {
   "cell_type": "code",
   "execution_count": 14,
   "id": "a2941f26-f6a1-4ee3-ac56-304cfa05ab38",
   "metadata": {},
   "outputs": [
    {
     "data": {
      "text/plain": [
       "(15000.0, 48767.0)"
      ]
     },
     "execution_count": 14,
     "metadata": {},
     "output_type": "execute_result"
    }
   ],
   "source": [
    "q1 = np.percentile(dataset[\"Driven_kms\"],25)\n",
    "q3 = np.percentile(dataset[\"Driven_kms\"],75)\n",
    "q1,q3"
   ]
  },
  {
   "cell_type": "code",
   "execution_count": 15,
   "id": "77309b2f-5bd2-416c-ae07-5b86c7995d4e",
   "metadata": {},
   "outputs": [],
   "source": [
    "iqr = q3-q1"
   ]
  },
  {
   "cell_type": "code",
   "execution_count": 16,
   "id": "f832db1b-941a-43ad-a2e4-58143a4ea85f",
   "metadata": {},
   "outputs": [
    {
     "data": {
      "text/plain": [
       "(-35650.5, 99417.5)"
      ]
     },
     "execution_count": 16,
     "metadata": {},
     "output_type": "execute_result"
    }
   ],
   "source": [
    "max_r = q3+(1.5*iqr)\n",
    "min_r = q1-(1.5*iqr)\n",
    "min_r,max_r"
   ]
  },
  {
   "cell_type": "code",
   "execution_count": 17,
   "id": "198db19b-56eb-4d52-8101-aece4f38acc1",
   "metadata": {},
   "outputs": [
    {
     "name": "stderr",
     "output_type": "stream",
     "text": [
      "C:\\Users\\karan\\AppData\\Local\\Temp\\ipykernel_5756\\342313978.py:1: FutureWarning: Setting an item of incompatible dtype is deprecated and will raise in a future error of pandas. Value '99417.5' has dtype incompatible with int64, please explicitly cast to a compatible dtype first.\n",
      "  dataset.loc[dataset[\"Driven_kms\"] > max_r, \"Driven_kms\"] = max_r\n"
     ]
    }
   ],
   "source": [
    "dataset.loc[dataset[\"Driven_kms\"] > max_r, \"Driven_kms\"] = max_r"
   ]
  },
  {
   "cell_type": "code",
   "execution_count": 18,
   "id": "4e2d3a69-c0b7-457e-b183-c4e7c323b0df",
   "metadata": {},
   "outputs": [
    {
     "data": {
      "text/plain": [
       "(301, 8)"
      ]
     },
     "execution_count": 18,
     "metadata": {},
     "output_type": "execute_result"
    }
   ],
   "source": [
    "dataset.shape"
   ]
  },
  {
   "cell_type": "code",
   "execution_count": null,
   "id": "f45747a9-ae3c-41f1-bc84-8f42589c7bde",
   "metadata": {},
   "outputs": [],
   "source": []
  },
  {
   "cell_type": "code",
   "execution_count": 19,
   "id": "ed0918e0-9a28-43b7-99e9-c74ad8681eff",
   "metadata": {},
   "outputs": [
    {
     "data": {
      "image/png": "[encoded data removed]",
      "text/plain": [
       "<Figure size 400x300 with 1 Axes>"
      ]
     },
     "metadata": {},
     "output_type": "display_data"
    }
   ],
   "source": [
    "plt.figure(figsize=(4,3))\n",
    "sns.kdeplot(x=\"Present_Price\",data=dataset)\n",
    "plt.show()"
   ]
  },
  {
   "cell_type": "code",
   "execution_count": 20,
   "id": "02f13ad0-ca79-43b4-9c5b-ff8cc99e929b",
   "metadata": {},
   "outputs": [
    {
     "data": {
      "image/png": "[encoded data removed]",
      "text/plain": [
       "<Figure size 400x300 with 1 Axes>"
      ]
     },
     "metadata": {},
     "output_type": "display_data"
    }
   ],
   "source": [
    "plt.figure(figsize=(4,3))\n",
    "sns.boxplot(x=\"Present_Price\",data=dataset)\n",
    "plt.show()"
   ]
  },
  {
   "cell_type": "code",
   "execution_count": 21,
   "id": "a8c8c806-a6e1-4520-b09d-3c0f5fadb04b",
   "metadata": {},
   "outputs": [
    {
     "data": {
      "text/plain": [
       "(1.2, 9.9)"
      ]
     },
     "execution_count": 21,
     "metadata": {},
     "output_type": "execute_result"
    }
   ],
   "source": [
    "q11 = np.percentile(dataset[\"Present_Price\"],25)\n",
    "q31 = np.percentile(dataset[\"Present_Price\"],75)\n",
    "q11,q31"
   ]
  },
  {
   "cell_type": "code",
   "execution_count": 22,
   "id": "b0d09e87-6aec-461b-8204-2646567047cd",
   "metadata": {},
   "outputs": [],
   "source": [
    "iqr1 = q31-q11"
   ]
  },
  {
   "cell_type": "code",
   "execution_count": 23,
   "id": "5ab109ad-8e2b-4be0-b333-980db248115b",
   "metadata": {},
   "outputs": [
    {
     "data": {
      "text/plain": [
       "(-11.850000000000001, 22.950000000000003)"
      ]
     },
     "execution_count": 23,
     "metadata": {},
     "output_type": "execute_result"
    }
   ],
   "source": [
    "max_r1 = q31+(1.5*iqr1)\n",
    "min_r1 = q11-(1.5*iqr1)\n",
    "min_r1,max_r1"
   ]
  },
  {
   "cell_type": "code",
   "execution_count": 24,
   "id": "3b8dd394-fa8c-462a-91e4-99a93f7fd0aa",
   "metadata": {},
   "outputs": [],
   "source": [
    "dataset.loc[dataset[\"Present_Price\"] > max_r1, \"Present_Price\"] = max_r1"
   ]
  },
  {
   "cell_type": "code",
   "execution_count": null,
   "id": "3b61be8c-b239-43b7-b575-1fdb20f33d17",
   "metadata": {},
   "outputs": [],
   "source": []
  },
  {
   "cell_type": "code",
   "execution_count": 25,
   "id": "2a22e572-2b7c-4aff-b9e9-43ddad490615",
   "metadata": {},
   "outputs": [],
   "source": [
    "# Present_Price_ft = FunctionTransformer(func= np.log1p )\n",
    "# Present_Price_ft.fit(dataset[\"Present_Price\"])\n",
    "# dataset[\"Present_Price\"] = Present_Price_ft.transform(dataset[\"Present_Price\"])"
   ]
  },
  {
   "cell_type": "code",
   "execution_count": 26,
   "id": "a712bfbf-fe54-42cd-a2e3-33f72f80f2ef",
   "metadata": {},
   "outputs": [],
   "source": [
    "# Driven_kms_ft = FunctionTransformer(func= lambda x : x**0.5)\n",
    "# Driven_kms_ft.fit(dataset[\"Driven_kms\"])\n",
    "# dataset[\"Driven_kms\"] = Driven_kms_ft.transform(dataset[\"Driven_kms\"])"
   ]
  },
  {
   "cell_type": "code",
   "execution_count": null,
   "id": "e0400c09-0f0d-4025-b204-ad49302b9cd5",
   "metadata": {},
   "outputs": [],
   "source": []
  },
  {
   "cell_type": "code",
   "execution_count": 27,
   "id": "95dc1a10-92c3-4a91-939f-de940218b820",
   "metadata": {},
   "outputs": [
    {
     "data": {
      "text/html": [
       "<div>\n",
       "<style scoped>\n",
       "    .dataframe tbody tr th:only-of-type {\n",
       "        vertical-align: middle;\n",
       "    }\n",
       "\n",
       "    .dataframe tbody tr th {\n",
       "        vertical-align: top;\n",
       "    }\n",
       "\n",
       "    .dataframe thead th {\n",
       "        text-align: right;\n",
       "    }\n",
       "</style>\n",
       "<table border=\"1\" class=\"dataframe\">\n",
       "  <thead>\n",
       "    <tr style=\"text-align: right;\">\n",
       "      <th></th>\n",
       "      <th>Car_Name</th>\n",
       "      <th>Year</th>\n",
       "      <th>Present_Price</th>\n",
       "      <th>Driven_kms</th>\n",
       "      <th>Fuel_Type</th>\n",
       "      <th>Transmission</th>\n",
       "      <th>Owner</th>\n",
       "      <th>Selling_Price</th>\n",
       "    </tr>\n",
       "  </thead>\n",
       "  <tbody>\n",
       "    <tr>\n",
       "      <th>0</th>\n",
       "      <td>90</td>\n",
       "      <td>2014</td>\n",
       "      <td>5.59</td>\n",
       "      <td>27000.0</td>\n",
       "      <td>2</td>\n",
       "      <td>1</td>\n",
       "      <td>0</td>\n",
       "      <td>3.35</td>\n",
       "    </tr>\n",
       "    <tr>\n",
       "      <th>1</th>\n",
       "      <td>93</td>\n",
       "      <td>2013</td>\n",
       "      <td>9.54</td>\n",
       "      <td>43000.0</td>\n",
       "      <td>1</td>\n",
       "      <td>1</td>\n",
       "      <td>0</td>\n",
       "      <td>4.75</td>\n",
       "    </tr>\n",
       "    <tr>\n",
       "      <th>2</th>\n",
       "      <td>68</td>\n",
       "      <td>2017</td>\n",
       "      <td>9.85</td>\n",
       "      <td>6900.0</td>\n",
       "      <td>2</td>\n",
       "      <td>1</td>\n",
       "      <td>0</td>\n",
       "      <td>7.25</td>\n",
       "    </tr>\n",
       "  </tbody>\n",
       "</table>\n",
       "</div>"
      ],
      "text/plain": [
       "   Car_Name  Year  Present_Price  Driven_kms  Fuel_Type  Transmission  Owner  \\\n",
       "0        90  2014           5.59     27000.0          2             1      0   \n",
       "1        93  2013           9.54     43000.0          1             1      0   \n",
       "2        68  2017           9.85      6900.0          2             1      0   \n",
       "\n",
       "   Selling_Price  \n",
       "0           3.35  \n",
       "1           4.75  \n",
       "2           7.25  "
      ]
     },
     "execution_count": 27,
     "metadata": {},
     "output_type": "execute_result"
    }
   ],
   "source": [
    "dataset.head(3)"
   ]
  },
  {
   "cell_type": "code",
   "execution_count": 28,
   "id": "84f87f62-4077-4715-a8f4-8473d506f1a8",
   "metadata": {},
   "outputs": [
    {
     "data": {
      "image/png": "[encoded data removed]",
      "text/plain": [
       "<Figure size 640x480 with 2 Axes>"
      ]
     },
     "metadata": {},
     "output_type": "display_data"
    }
   ],
   "source": [
    "sns.heatmap(data=dataset.corr(),annot=True)\n",
    "plt.show()"
   ]
  },
  {
   "cell_type": "code",
   "execution_count": null,
   "id": "84a11e4a-3a8c-48ac-98ae-936bc6b1984f",
   "metadata": {},
   "outputs": [],
   "source": []
  },
  {
   "cell_type": "code",
   "execution_count": null,
   "id": "8e36b2c4-5edd-49c2-90eb-4f4263e0901e",
   "metadata": {},
   "outputs": [],
   "source": []
  },
  {
   "cell_type": "code",
   "execution_count": null,
   "id": "204a5d40-4500-4812-a78a-edab34c1f05a",
   "metadata": {},
   "outputs": [],
   "source": []
  },
  {
   "cell_type": "code",
   "execution_count": 29,
   "id": "67af52cf-ff2f-4780-b75c-a7cdb797c587",
   "metadata": {},
   "outputs": [],
   "source": [
    "x = dataset.iloc[:,:-1]\n",
    "y = dataset[\"Selling_Price\"]"
   ]
  },
  {
   "cell_type": "code",
   "execution_count": null,
   "id": "ea66dce0-efb4-4e27-9046-e809ed1d53ff",
   "metadata": {},
   "outputs": [],
   "source": []
  },
  {
   "cell_type": "code",
   "execution_count": 30,
   "id": "d263e740-510b-4176-9b22-f00a344ed5c2",
   "metadata": {},
   "outputs": [],
   "source": [
    "sc = StandardScaler()\n",
    "sc.fit(x)\n",
    "x  = pd.DataFrame(sc.transform(x),columns=x.columns)"
   ]
  },
  {
   "cell_type": "code",
   "execution_count": null,
   "id": "12e3f7ce-bb3b-44dc-8ab2-815868f1261d",
   "metadata": {},
   "outputs": [],
   "source": []
  },
  {
   "cell_type": "code",
   "execution_count": 31,
   "id": "4c60daab-24f7-4e62-b5a9-85717e59febc",
   "metadata": {},
   "outputs": [],
   "source": [
    "x_train , x_test , y_train , y_test = train_test_split(x,y,test_size=0.2,random_state=43)"
   ]
  },
  {
   "cell_type": "code",
   "execution_count": null,
   "id": "b710df34-8a88-4f57-82e8-ef771b4db47f",
   "metadata": {},
   "outputs": [],
   "source": []
  },
  {
   "cell_type": "code",
   "execution_count": 32,
   "id": "ac3648db-9d03-446a-aacd-8708867e4304",
   "metadata": {},
   "outputs": [
    {
     "data": {
      "text/html": [
       "<style>#sk-container-id-1 {color: black;}#sk-container-id-1 pre{padding: 0;}#sk-container-id-1 div.sk-toggleable {background-color: white;}#sk-container-id-1 label.sk-toggleable__label {cursor: pointer;display: block;width: 100%;margin-bottom: 0;padding: 0.3em;box-sizing: border-box;text-align: center;}#sk-container-id-1 label.sk-toggleable__label-arrow:before {content: \"▸\";float: left;margin-right: 0.25em;color: #696969;}#sk-container-id-1 label.sk-toggleable__label-arrow:hover:before {color: black;}#sk-container-id-1 div.sk-estimator:hover label.sk-toggleable__label-arrow:before {color: black;}#sk-container-id-1 div.sk-toggleable__content {max-height: 0;max-width: 0;overflow: hidden;text-align: left;background-color: #f0f8ff;}#sk-container-id-1 div.sk-toggleable__content pre {margin: 0.2em;color: black;border-radius: 0.25em;background-color: #f0f8ff;}#sk-container-id-1 input.sk-toggleable__control:checked~div.sk-toggleable__content {max-height: 200px;max-width: 100%;overflow: auto;}#sk-container-id-1 input.sk-toggleable__control:checked~label.sk-toggleable__label-arrow:before {content: \"▾\";}#sk-container-id-1 div.sk-estimator input.sk-toggleable__control:checked~label.sk-toggleable__label {background-color: #d4ebff;}#sk-container-id-1 div.sk-label input.sk-toggleable__control:checked~label.sk-toggleable__label {background-color: #d4ebff;}#sk-container-id-1 input.sk-hidden--visually {border: 0;clip: rect(1px 1px 1px 1px);clip: rect(1px, 1px, 1px, 1px);height: 1px;margin: -1px;overflow: hidden;padding: 0;position: absolute;width: 1px;}#sk-container-id-1 div.sk-estimator {font-family: monospace;background-color: #f0f8ff;border: 1px dotted black;border-radius: 0.25em;box-sizing: border-box;margin-bottom: 0.5em;}#sk-container-id-1 div.sk-estimator:hover {background-color: #d4ebff;}#sk-container-id-1 div.sk-parallel-item::after {content: \"\";width: 100%;border-bottom: 1px solid gray;flex-grow: 1;}#sk-container-id-1 div.sk-label:hover label.sk-toggleable__label {background-color: #d4ebff;}#sk-container-id-1 div.sk-serial::before {content: \"\";position: absolute;border-left: 1px solid gray;box-sizing: border-box;top: 0;bottom: 0;left: 50%;z-index: 0;}#sk-container-id-1 div.sk-serial {display: flex;flex-direction: column;align-items: center;background-color: white;padding-right: 0.2em;padding-left: 0.2em;position: relative;}#sk-container-id-1 div.sk-item {position: relative;z-index: 1;}#sk-container-id-1 div.sk-parallel {display: flex;align-items: stretch;justify-content: center;background-color: white;position: relative;}#sk-container-id-1 div.sk-item::before, #sk-container-id-1 div.sk-parallel-item::before {content: \"\";position: absolute;border-left: 1px solid gray;box-sizing: border-box;top: 0;bottom: 0;left: 50%;z-index: -1;}#sk-container-id-1 div.sk-parallel-item {display: flex;flex-direction: column;z-index: 1;position: relative;background-color: white;}#sk-container-id-1 div.sk-parallel-item:first-child::after {align-self: flex-end;width: 50%;}#sk-container-id-1 div.sk-parallel-item:last-child::after {align-self: flex-start;width: 50%;}#sk-container-id-1 div.sk-parallel-item:only-child::after {width: 0;}#sk-container-id-1 div.sk-dashed-wrapped {border: 1px dashed gray;margin: 0 0.4em 0.5em 0.4em;box-sizing: border-box;padding-bottom: 0.4em;background-color: white;}#sk-container-id-1 div.sk-label label {font-family: monospace;font-weight: bold;display: inline-block;line-height: 1.2em;}#sk-container-id-1 div.sk-label-container {text-align: center;}#sk-container-id-1 div.sk-container {/* jupyter's `normalize.less` sets `[hidden] { display: none; }` but bootstrap.min.css set `[hidden] { display: none !important; }` so we also need the `!important` here to be able to override the default hidden behavior on the sphinx rendered scikit-learn.org. See: https://github.com/scikit-learn/scikit-learn/issues/21755 */display: inline-block !important;position: relative;}#sk-container-id-1 div.sk-text-repr-fallback {display: none;}</style><div id=\"sk-container-id-1\" class=\"sk-top-container\"><div class=\"sk-text-repr-fallback\"><pre>LinearRegression()</pre><b>In a Jupyter environment, please rerun this cell to show the HTML representation or trust the notebook. <br />On GitHub, the HTML representation is unable to render, please try loading this page with nbviewer.org.</b></div><div class=\"sk-container\" hidden><div class=\"sk-item\"><div class=\"sk-estimator sk-toggleable\"><input class=\"sk-toggleable__control sk-hidden--visually\" id=\"sk-estimator-id-1\" type=\"checkbox\" checked><label for=\"sk-estimator-id-1\" class=\"sk-toggleable__label sk-toggleable__label-arrow\">LinearRegression</label><div class=\"sk-toggleable__content\"><pre>LinearRegression()</pre></div></div></div></div></div>"
      ],
      "text/plain": [
       "LinearRegression()"
      ]
     },
     "execution_count": 32,
     "metadata": {},
     "output_type": "execute_result"
    }
   ],
   "source": [
    "lr = LinearRegression()\n",
    "lr.fit(x_train,y_train)"
   ]
  },
  {
   "cell_type": "code",
   "execution_count": 33,
   "id": "a2cd23e1-f48b-47d0-ae1f-324cb8422e2b",
   "metadata": {},
   "outputs": [
    {
     "data": {
      "text/plain": [
       "(79.82586149837685, 80.08254651565387)"
      ]
     },
     "execution_count": 33,
     "metadata": {},
     "output_type": "execute_result"
    }
   ],
   "source": [
    "lr.score(x_test,y_test)*100,lr.score(x_train,y_train)*100"
   ]
  },
  {
   "cell_type": "code",
   "execution_count": 37,
   "id": "e5111052-e032-492c-a8f9-250a2d5318cb",
   "metadata": {},
   "outputs": [
    {
     "name": "stderr",
     "output_type": "stream",
     "text": [
      "C:\\Users\\karan\\AppData\\Local\\Programs\\Python\\Python310\\lib\\site-packages\\sklearn\\base.py:465: UserWarning: X does not have valid feature names, but LinearRegression was fitted with feature names\n",
      "  warnings.warn(\n"
     ]
    },
    {
     "data": {
      "text/plain": [
       "array([8.91406638])"
      ]
     },
     "execution_count": 37,
     "metadata": {},
     "output_type": "execute_result"
    }
   ],
   "source": [
    "lr.predict([[0.251795,0.475308,1.060700,-0.018011,0.500183,0.391480,-0.17450]])"
   ]
  },
  {
   "cell_type": "code",
   "execution_count": 53,
   "id": "f5beb4be-31ab-4637-8e87-44894e443b3c",
   "metadata": {},
   "outputs": [
    {
     "data": {
      "text/html": [
       "<div>\n",
       "<style scoped>\n",
       "    .dataframe tbody tr th:only-of-type {\n",
       "        vertical-align: middle;\n",
       "    }\n",
       "\n",
       "    .dataframe tbody tr th {\n",
       "        vertical-align: top;\n",
       "    }\n",
       "\n",
       "    .dataframe thead th {\n",
       "        text-align: right;\n",
       "    }\n",
       "</style>\n",
       "<table border=\"1\" class=\"dataframe\">\n",
       "  <thead>\n",
       "    <tr style=\"text-align: right;\">\n",
       "      <th></th>\n",
       "      <th>Car_Name</th>\n",
       "      <th>Year</th>\n",
       "      <th>Present_Price</th>\n",
       "      <th>Driven_kms</th>\n",
       "      <th>Fuel_Type</th>\n",
       "      <th>Transmission</th>\n",
       "      <th>Owner</th>\n",
       "    </tr>\n",
       "  </thead>\n",
       "  <tbody>\n",
       "    <tr>\n",
       "      <th>288</th>\n",
       "      <td>0.251795</td>\n",
       "      <td>0.475308</td>\n",
       "      <td>1.0607</td>\n",
       "      <td>-0.018011</td>\n",
       "      <td>0.500183</td>\n",
       "      <td>0.39148</td>\n",
       "      <td>-0.174501</td>\n",
       "    </tr>\n",
       "  </tbody>\n",
       "</table>\n",
       "</div>"
      ],
      "text/plain": [
       "     Car_Name      Year  Present_Price  Driven_kms  Fuel_Type  Transmission  \\\n",
       "288  0.251795  0.475308         1.0607   -0.018011   0.500183       0.39148   \n",
       "\n",
       "        Owner  \n",
       "288 -0.174501  "
      ]
     },
     "execution_count": 53,
     "metadata": {},
     "output_type": "execute_result"
    }
   ],
   "source": [
    "x_test.head(1)"
   ]
  },
  {
   "cell_type": "code",
   "execution_count": null,
   "id": "c70cc328-9af7-4c87-8302-1bbfb05c7c19",
   "metadata": {},
   "outputs": [],
   "source": []
  },
  {
   "cell_type": "code",
   "execution_count": null,
   "id": "fdcd1f9a-cc4d-4580-ae29-245b8866e036",
   "metadata": {},
   "outputs": [],
   "source": []
  },
  {
   "cell_type": "code",
   "execution_count": null,
   "id": "3c582ef7-5533-4714-a5e3-b9a641b2045e",
   "metadata": {},
   "outputs": [],
   "source": []
  },
  {
   "cell_type": "code",
   "execution_count": null,
   "id": "dfd08fe0-b485-4920-84ad-18ee70893911",
   "metadata": {},
   "outputs": [],
   "source": []
  },
  {
   "cell_type": "code",
   "execution_count": null,
   "id": "b4fe7996-e082-40ce-8379-3dca7e992676",
   "metadata": {},
   "outputs": [],
   "source": []
  },
  {
   "cell_type": "code",
   "execution_count": null,
   "id": "3d7b5355-2f85-4d67-956c-da6cef3f8f15",
   "metadata": {},
   "outputs": [],
   "source": []
  },
  {
   "cell_type": "code",
   "execution_count": 45,
   "id": "05c82f14-38a6-45f7-a090-0bb10babd2bb",
   "metadata": {},
   "outputs": [],
   "source": [
    "new_data1 = pd.read_csv(\"car data.csv\")"
   ]
  },
  {
   "cell_type": "code",
   "execution_count": 46,
   "id": "1a20e90f-a33e-4051-aabb-ada9f65dbbed",
   "metadata": {},
   "outputs": [],
   "source": [
    "new_data = new_data1.drop(columns=[\"Present_Price\",\"Selling_type\",\"Selling_Price\"])"
   ]
  },
  {
   "cell_type": "code",
   "execution_count": 73,
   "id": "a461538f-ed15-45ca-a8ab-bfb6841d736b",
   "metadata": {},
   "outputs": [
    {
     "data": {
      "text/html": [
       "<div>\n",
       "<style scoped>\n",
       "    .dataframe tbody tr th:only-of-type {\n",
       "        vertical-align: middle;\n",
       "    }\n",
       "\n",
       "    .dataframe tbody tr th {\n",
       "        vertical-align: top;\n",
       "    }\n",
       "\n",
       "    .dataframe thead th {\n",
       "        text-align: right;\n",
       "    }\n",
       "</style>\n",
       "<table border=\"1\" class=\"dataframe\">\n",
       "  <thead>\n",
       "    <tr style=\"text-align: right;\">\n",
       "      <th></th>\n",
       "      <th>Car_Name</th>\n",
       "      <th>Year</th>\n",
       "      <th>Present_Price</th>\n",
       "      <th>Driven_kms</th>\n",
       "      <th>Fuel_Type</th>\n",
       "      <th>Transmission</th>\n",
       "      <th>Owner</th>\n",
       "    </tr>\n",
       "  </thead>\n",
       "  <tbody>\n",
       "    <tr>\n",
       "      <th>0</th>\n",
       "      <td>1.074323</td>\n",
       "      <td>0.128897</td>\n",
       "      <td>-0.241716</td>\n",
       "      <td>-0.313531</td>\n",
       "      <td>0.500183</td>\n",
       "      <td>0.39148</td>\n",
       "      <td>-0.174501</td>\n",
       "    </tr>\n",
       "  </tbody>\n",
       "</table>\n",
       "</div>"
      ],
      "text/plain": [
       "   Car_Name      Year  Present_Price  Driven_kms  Fuel_Type  Transmission  \\\n",
       "0  1.074323  0.128897      -0.241716   -0.313531   0.500183       0.39148   \n",
       "\n",
       "      Owner  \n",
       "0 -0.174501  "
      ]
     },
     "execution_count": 73,
     "metadata": {},
     "output_type": "execute_result"
    }
   ],
   "source": [
    "new_data = new_data.head(1)\n",
    "new_data"
   ]
  },
  {
   "cell_type": "code",
   "execution_count": 68,
   "id": "731e3053-934f-4692-9560-def52e4203c0",
   "metadata": {},
   "outputs": [],
   "source": [
    "sl = new_data1[(new_data1[\"Car_Name\"]==\"ritz\")&(new_data1[\"Year\"]==2014)][\"Present_Price\"][0]"
   ]
  },
  {
   "cell_type": "code",
   "execution_count": 69,
   "id": "97b4d3c4-20eb-44a9-a73a-4a1c12fabe44",
   "metadata": {},
   "outputs": [],
   "source": [
    "new_data.insert(2,\"Present_Price\",sl)"
   ]
  },
  {
   "cell_type": "code",
   "execution_count": 60,
   "id": "f469bbd7-676f-40b0-91dd-00e3d879331e",
   "metadata": {},
   "outputs": [],
   "source": [
    "new_data[\"Car_Name\"] = cn.transform(new_data[\"Car_Name\"])"
   ]
  },
  {
   "cell_type": "code",
   "execution_count": 63,
   "id": "c4dc8870-f617-40f2-baed-a90725a45d23",
   "metadata": {},
   "outputs": [],
   "source": [
    "new_data[\"Fuel_Type\"] = ft.transform(new_data[\"Fuel_Type\"])"
   ]
  },
  {
   "cell_type": "code",
   "execution_count": 66,
   "id": "f4781be8-527f-42f3-a65f-4ac0e58b10d9",
   "metadata": {},
   "outputs": [],
   "source": [
    "new_data[\"Transmission\"] = Tr.transform(new_data[\"Transmission\"])"
   ]
  },
  {
   "cell_type": "code",
   "execution_count": 72,
   "id": "1a5b30d1-f7c1-42ff-a078-c1583d5b041b",
   "metadata": {},
   "outputs": [],
   "source": [
    "new_data = pd.DataFrame(sc.transform(new_data),columns=new_data.columns)"
   ]
  },
  {
   "cell_type": "code",
   "execution_count": 74,
   "id": "43eb6a5e-50cf-46d4-80af-142885891831",
   "metadata": {},
   "outputs": [
    {
     "data": {
      "text/plain": [
       "array([3.4830288])"
      ]
     },
     "execution_count": 74,
     "metadata": {},
     "output_type": "execute_result"
    }
   ],
   "source": [
    "lr.predict(new_data)"
   ]
  },
  {
   "cell_type": "code",
   "execution_count": null,
   "id": "348afa73-2ed3-489f-bb67-1851d6ca184f",
   "metadata": {},
   "outputs": [],
   "source": []
  },
  {
   "cell_type": "code",
   "execution_count": null,
   "id": "a6b015e8-8945-48cb-bdb0-7acc28bf1b9b",
   "metadata": {},
   "outputs": [],
   "source": []
  },
  {
   "cell_type": "code",
   "execution_count": null,
   "id": "2b4faf79-9ec1-4d38-8800-6057bd8850b0",
   "metadata": {},
   "outputs": [],
   "source": []
  },
  {
   "cell_type": "code",
   "execution_count": null,
   "id": "abbe88a0-3bd0-4184-b646-ab0b21c687b5",
   "metadata": {},
   "outputs": [],
   "source": []
  },
  {
   "cell_type": "code",
   "execution_count": 96,
   "id": "5b38e33d-1f3d-481a-a09e-4e909420d4dd",
   "metadata": {},
   "outputs": [],
   "source": [
    "from sklearn.pipeline import make_pipeline, Pipeline\n",
    "from sklearn.compose  import ColumnTransformer\n",
    "from sklearn.preprocessing import OrdinalEncoder"
   ]
  },
  {
   "cell_type": "code",
   "execution_count": 81,
   "id": "1205dec7-8e93-447e-9032-a2fa8519ab6c",
   "metadata": {},
   "outputs": [
    {
     "data": {
      "text/html": [
       "<div>\n",
       "<style scoped>\n",
       "    .dataframe tbody tr th:only-of-type {\n",
       "        vertical-align: middle;\n",
       "    }\n",
       "\n",
       "    .dataframe tbody tr th {\n",
       "        vertical-align: top;\n",
       "    }\n",
       "\n",
       "    .dataframe thead th {\n",
       "        text-align: right;\n",
       "    }\n",
       "</style>\n",
       "<table border=\"1\" class=\"dataframe\">\n",
       "  <thead>\n",
       "    <tr style=\"text-align: right;\">\n",
       "      <th></th>\n",
       "      <th>Car_Name</th>\n",
       "      <th>Year</th>\n",
       "      <th>Present_Price</th>\n",
       "      <th>Driven_kms</th>\n",
       "      <th>Fuel_Type</th>\n",
       "      <th>Transmission</th>\n",
       "      <th>Owner</th>\n",
       "    </tr>\n",
       "  </thead>\n",
       "  <tbody>\n",
       "    <tr>\n",
       "      <th>0</th>\n",
       "      <td>ritz</td>\n",
       "      <td>2014</td>\n",
       "      <td>5.59</td>\n",
       "      <td>27000</td>\n",
       "      <td>Petrol</td>\n",
       "      <td>Manual</td>\n",
       "      <td>0</td>\n",
       "    </tr>\n",
       "    <tr>\n",
       "      <th>1</th>\n",
       "      <td>sx4</td>\n",
       "      <td>2013</td>\n",
       "      <td>9.54</td>\n",
       "      <td>43000</td>\n",
       "      <td>Diesel</td>\n",
       "      <td>Manual</td>\n",
       "      <td>0</td>\n",
       "    </tr>\n",
       "  </tbody>\n",
       "</table>\n",
       "</div>"
      ],
      "text/plain": [
       "  Car_Name  Year  Present_Price  Driven_kms Fuel_Type Transmission  Owner\n",
       "0     ritz  2014           5.59       27000    Petrol       Manual      0\n",
       "1      sx4  2013           9.54       43000    Diesel       Manual      0"
      ]
     },
     "execution_count": 81,
     "metadata": {},
     "output_type": "execute_result"
    }
   ],
   "source": [
    "new_data_x = new_data1.drop(columns=[\"Selling_type\",\"Selling_Price\"])\n",
    "new_data_x.head(2)"
   ]
  },
  {
   "cell_type": "code",
   "execution_count": 102,
   "id": "a2797b02-0caa-44d6-a230-33476b2f9cce",
   "metadata": {},
   "outputs": [],
   "source": [
    "new_data_y = new_data1[\"Selling_Price\"]"
   ]
  },
  {
   "cell_type": "code",
   "execution_count": null,
   "id": "138440d4-8333-419d-99ff-55ae5374f937",
   "metadata": {},
   "outputs": [],
   "source": [
    "new_data_x.columns"
   ]
  },
  {
   "cell_type": "code",
   "execution_count": 92,
   "id": "7f4e1236-5bed-457a-8e12-0879163712a4",
   "metadata": {},
   "outputs": [],
   "source": [
    "num_data = new_data_x.select_dtypes([\"int64\",\"float64\"]).columns\n",
    "cat_data = new_data_x.select_dtypes([\"object\"]).columns"
   ]
  },
  {
   "cell_type": "code",
   "execution_count": 97,
   "id": "3d58529d-7d69-4c04-859c-01334c58b572",
   "metadata": {},
   "outputs": [],
   "source": [
    "c1 = ColumnTransformer([(\"t1\",OrdinalEncoder(),[0,4,5])],remainder=\"passthrough\")"
   ]
  },
  {
   "cell_type": "code",
   "execution_count": 105,
   "id": "8ccced2e-adde-4134-9e87-97d5efcf636a",
   "metadata": {},
   "outputs": [],
   "source": [
    "pipe = Pipeline(steps=[(\"en\",ColumnTransformer([(\"t1\",OrdinalEncoder(),[0,4,5])],remainder=\"passthrough\"))\n",
    "                       ,(\"sec\",StandardScaler()),(\"lr_mo\",LinearRegression())])"
   ]
  },
  {
   "cell_type": "code",
   "execution_count": 106,
   "id": "96dee077-22d9-475a-9ad0-ce71bb1dc09b",
   "metadata": {},
   "outputs": [
    {
     "data": {
      "text/html": [
       "<style>#sk-container-id-4 {color: black;}#sk-container-id-4 pre{padding: 0;}#sk-container-id-4 div.sk-toggleable {background-color: white;}#sk-container-id-4 label.sk-toggleable__label {cursor: pointer;display: block;width: 100%;margin-bottom: 0;padding: 0.3em;box-sizing: border-box;text-align: center;}#sk-container-id-4 label.sk-toggleable__label-arrow:before {content: \"▸\";float: left;margin-right: 0.25em;color: #696969;}#sk-container-id-4 label.sk-toggleable__label-arrow:hover:before {color: black;}#sk-container-id-4 div.sk-estimator:hover label.sk-toggleable__label-arrow:before {color: black;}#sk-container-id-4 div.sk-toggleable__content {max-height: 0;max-width: 0;overflow: hidden;text-align: left;background-color: #f0f8ff;}#sk-container-id-4 div.sk-toggleable__content pre {margin: 0.2em;color: black;border-radius: 0.25em;background-color: #f0f8ff;}#sk-container-id-4 input.sk-toggleable__control:checked~div.sk-toggleable__content {max-height: 200px;max-width: 100%;overflow: auto;}#sk-container-id-4 input.sk-toggleable__control:checked~label.sk-toggleable__label-arrow:before {content: \"▾\";}#sk-container-id-4 div.sk-estimator input.sk-toggleable__control:checked~label.sk-toggleable__label {background-color: #d4ebff;}#sk-container-id-4 div.sk-label input.sk-toggleable__control:checked~label.sk-toggleable__label {background-color: #d4ebff;}#sk-container-id-4 input.sk-hidden--visually {border: 0;clip: rect(1px 1px 1px 1px);clip: rect(1px, 1px, 1px, 1px);height: 1px;margin: -1px;overflow: hidden;padding: 0;position: absolute;width: 1px;}#sk-container-id-4 div.sk-estimator {font-family: monospace;background-color: #f0f8ff;border: 1px dotted black;border-radius: 0.25em;box-sizing: border-box;margin-bottom: 0.5em;}#sk-container-id-4 div.sk-estimator:hover {background-color: #d4ebff;}#sk-container-id-4 div.sk-parallel-item::after {content: \"\";width: 100%;border-bottom: 1px solid gray;flex-grow: 1;}#sk-container-id-4 div.sk-label:hover label.sk-toggleable__label {background-color: #d4ebff;}#sk-container-id-4 div.sk-serial::before {content: \"\";position: absolute;border-left: 1px solid gray;box-sizing: border-box;top: 0;bottom: 0;left: 50%;z-index: 0;}#sk-container-id-4 div.sk-serial {display: flex;flex-direction: column;align-items: center;background-color: white;padding-right: 0.2em;padding-left: 0.2em;position: relative;}#sk-container-id-4 div.sk-item {position: relative;z-index: 1;}#sk-container-id-4 div.sk-parallel {display: flex;align-items: stretch;justify-content: center;background-color: white;position: relative;}#sk-container-id-4 div.sk-item::before, #sk-container-id-4 div.sk-parallel-item::before {content: \"\";position: absolute;border-left: 1px solid gray;box-sizing: border-box;top: 0;bottom: 0;left: 50%;z-index: -1;}#sk-container-id-4 div.sk-parallel-item {display: flex;flex-direction: column;z-index: 1;position: relative;background-color: white;}#sk-container-id-4 div.sk-parallel-item:first-child::after {align-self: flex-end;width: 50%;}#sk-container-id-4 div.sk-parallel-item:last-child::after {align-self: flex-start;width: 50%;}#sk-container-id-4 div.sk-parallel-item:only-child::after {width: 0;}#sk-container-id-4 div.sk-dashed-wrapped {border: 1px dashed gray;margin: 0 0.4em 0.5em 0.4em;box-sizing: border-box;padding-bottom: 0.4em;background-color: white;}#sk-container-id-4 div.sk-label label {font-family: monospace;font-weight: bold;display: inline-block;line-height: 1.2em;}#sk-container-id-4 div.sk-label-container {text-align: center;}#sk-container-id-4 div.sk-container {/* jupyter's `normalize.less` sets `[hidden] { display: none; }` but bootstrap.min.css set `[hidden] { display: none !important; }` so we also need the `!important` here to be able to override the default hidden behavior on the sphinx rendered scikit-learn.org. See: https://github.com/scikit-learn/scikit-learn/issues/21755 */display: inline-block !important;position: relative;}#sk-container-id-4 div.sk-text-repr-fallback {display: none;}</style><div id=\"sk-container-id-4\" class=\"sk-top-container\"><div class=\"sk-text-repr-fallback\"><pre>Pipeline(steps=[(&#x27;en&#x27;,\n",
       "                 ColumnTransformer(remainder=&#x27;passthrough&#x27;,\n",
       "                                   transformers=[(&#x27;t1&#x27;, OrdinalEncoder(),\n",
       "                                                  [0, 4, 5])])),\n",
       "                (&#x27;sec&#x27;, StandardScaler()), (&#x27;lr_mo&#x27;, LinearRegression())])</pre><b>In a Jupyter environment, please rerun this cell to show the HTML representation or trust the notebook. <br />On GitHub, the HTML representation is unable to render, please try loading this page with nbviewer.org.</b></div><div class=\"sk-container\" hidden><div class=\"sk-item sk-dashed-wrapped\"><div class=\"sk-label-container\"><div class=\"sk-label sk-toggleable\"><input class=\"sk-toggleable__control sk-hidden--visually\" id=\"sk-estimator-id-15\" type=\"checkbox\" ><label for=\"sk-estimator-id-15\" class=\"sk-toggleable__label sk-toggleable__label-arrow\">Pipeline</label><div class=\"sk-toggleable__content\"><pre>Pipeline(steps=[(&#x27;en&#x27;,\n",
       "                 ColumnTransformer(remainder=&#x27;passthrough&#x27;,\n",
       "                                   transformers=[(&#x27;t1&#x27;, OrdinalEncoder(),\n",
       "                                                  [0, 4, 5])])),\n",
       "                (&#x27;sec&#x27;, StandardScaler()), (&#x27;lr_mo&#x27;, LinearRegression())])</pre></div></div></div><div class=\"sk-serial\"><div class=\"sk-item sk-dashed-wrapped\"><div class=\"sk-label-container\"><div class=\"sk-label sk-toggleable\"><input class=\"sk-toggleable__control sk-hidden--visually\" id=\"sk-estimator-id-16\" type=\"checkbox\" ><label for=\"sk-estimator-id-16\" class=\"sk-toggleable__label sk-toggleable__label-arrow\">en: ColumnTransformer</label><div class=\"sk-toggleable__content\"><pre>ColumnTransformer(remainder=&#x27;passthrough&#x27;,\n",
       "                  transformers=[(&#x27;t1&#x27;, OrdinalEncoder(), [0, 4, 5])])</pre></div></div></div><div class=\"sk-parallel\"><div class=\"sk-parallel-item\"><div class=\"sk-item\"><div class=\"sk-label-container\"><div class=\"sk-label sk-toggleable\"><input class=\"sk-toggleable__control sk-hidden--visually\" id=\"sk-estimator-id-17\" type=\"checkbox\" ><label for=\"sk-estimator-id-17\" class=\"sk-toggleable__label sk-toggleable__label-arrow\">t1</label><div class=\"sk-toggleable__content\"><pre>[0, 4, 5]</pre></div></div></div><div class=\"sk-serial\"><div class=\"sk-item\"><div class=\"sk-estimator sk-toggleable\"><input class=\"sk-toggleable__control sk-hidden--visually\" id=\"sk-estimator-id-18\" type=\"checkbox\" ><label for=\"sk-estimator-id-18\" class=\"sk-toggleable__label sk-toggleable__label-arrow\">OrdinalEncoder</label><div class=\"sk-toggleable__content\"><pre>OrdinalEncoder()</pre></div></div></div></div></div></div><div class=\"sk-parallel-item\"><div class=\"sk-item\"><div class=\"sk-label-container\"><div class=\"sk-label sk-toggleable\"><input class=\"sk-toggleable__control sk-hidden--visually\" id=\"sk-estimator-id-19\" type=\"checkbox\" ><label for=\"sk-estimator-id-19\" class=\"sk-toggleable__label sk-toggleable__label-arrow\">remainder</label><div class=\"sk-toggleable__content\"><pre>[&#x27;Year&#x27;, &#x27;Present_Price&#x27;, &#x27;Driven_kms&#x27;, &#x27;Owner&#x27;]</pre></div></div></div><div class=\"sk-serial\"><div class=\"sk-item\"><div class=\"sk-estimator sk-toggleable\"><input class=\"sk-toggleable__control sk-hidden--visually\" id=\"sk-estimator-id-20\" type=\"checkbox\" ><label for=\"sk-estimator-id-20\" class=\"sk-toggleable__label sk-toggleable__label-arrow\">passthrough</label><div class=\"sk-toggleable__content\"><pre>passthrough</pre></div></div></div></div></div></div></div></div><div class=\"sk-item\"><div class=\"sk-estimator sk-toggleable\"><input class=\"sk-toggleable__control sk-hidden--visually\" id=\"sk-estimator-id-21\" type=\"checkbox\" ><label for=\"sk-estimator-id-21\" class=\"sk-toggleable__label sk-toggleable__label-arrow\">StandardScaler</label><div class=\"sk-toggleable__content\"><pre>StandardScaler()</pre></div></div></div><div class=\"sk-item\"><div class=\"sk-estimator sk-toggleable\"><input class=\"sk-toggleable__control sk-hidden--visually\" id=\"sk-estimator-id-22\" type=\"checkbox\" ><label for=\"sk-estimator-id-22\" class=\"sk-toggleable__label sk-toggleable__label-arrow\">LinearRegression</label><div class=\"sk-toggleable__content\"><pre>LinearRegression()</pre></div></div></div></div></div></div></div>"
      ],
      "text/plain": [
       "Pipeline(steps=[('en',\n",
       "                 ColumnTransformer(remainder='passthrough',\n",
       "                                   transformers=[('t1', OrdinalEncoder(),\n",
       "                                                  [0, 4, 5])])),\n",
       "                ('sec', StandardScaler()), ('lr_mo', LinearRegression())])"
      ]
     },
     "execution_count": 106,
     "metadata": {},
     "output_type": "execute_result"
    }
   ],
   "source": [
    "pipe.fit(new_data_x,new_data_y)"
   ]
  },
  {
   "cell_type": "code",
   "execution_count": null,
   "id": "9baf0237-f274-4df0-a58f-af64b6d69b70",
   "metadata": {},
   "outputs": [],
   "source": []
  },
  {
   "cell_type": "code",
   "execution_count": 107,
   "id": "7c3f0c06-d688-4849-9d00-12082c78dcf6",
   "metadata": {},
   "outputs": [],
   "source": [
    "import pickle"
   ]
  },
  {
   "cell_type": "code",
   "execution_count": 108,
   "id": "3dc69c85-3363-4a0f-9497-451a7bdb7001",
   "metadata": {},
   "outputs": [],
   "source": [
    "p = open(\"mod.txt\",\"wb\")\n",
    "pickle.dump(pipe,p)\n",
    "p.close()"
   ]
  },
  {
   "cell_type": "code",
   "execution_count": null,
   "id": "8b645f29-2ba6-4535-9415-abc7f8f40cd3",
   "metadata": {},
   "outputs": [],
   "source": []
  }
 ],
 "metadata": {
  "kernelspec": {
   "display_name": "Python 3 (ipykernel)",
   "language": "python",
   "name": "python3"
  },
  "language_info": {
   "codemirror_mode": {
    "name": "ipython",
    "version": 3
   },
   "file_extension": ".py",
   "mimetype": "text/x-python",
   "name": "python",
   "nbconvert_exporter": "python",
   "pygments_lexer": "ipython3",
   "version": "3.10.11"
  }
 },
 "nbformat": 4,
 "nbformat_minor": 5
}
